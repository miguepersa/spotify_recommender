{
 "cells": [
  {
   "cell_type": "markdown",
   "metadata": {},
   "source": [
    "# Calculo de los centroides del Kmeans"
   ]
  },
  {
   "cell_type": "code",
   "execution_count": 21,
   "metadata": {},
   "outputs": [
    {
     "name": "stdout",
     "output_type": "stream",
     "text": [
      "Convergencia alcanzada en la iteracion numero: 85\n"
     ]
    }
   ],
   "source": [
    "import pandas as pd\n",
    "from K_means import Kmeans\n",
    "\n",
    "ind = ['danceability','energy','loudness','speechiness','acousticness','instrumentalness','liveness','valence','tempo']\n",
    "music_data = pd.read_csv('genres_v2.csv', low_memory=False)\n",
    "km = Kmeans(music_data[ind], 30)\n",
    "km.train(100)"
   ]
  },
  {
   "cell_type": "code",
   "execution_count": 22,
   "metadata": {},
   "outputs": [],
   "source": [
    "with open('centroides.txt', 'w') as f:\n",
    "    f.write(str(km.centroides))"
   ]
  }
 ],
 "metadata": {
  "kernelspec": {
   "display_name": "Python 3",
   "language": "python",
   "name": "python3"
  },
  "language_info": {
   "codemirror_mode": {
    "name": "ipython",
    "version": 3
   },
   "file_extension": ".py",
   "mimetype": "text/x-python",
   "name": "python",
   "nbconvert_exporter": "python",
   "pygments_lexer": "ipython3",
   "version": "3.11.4"
  }
 },
 "nbformat": 4,
 "nbformat_minor": 2
}
